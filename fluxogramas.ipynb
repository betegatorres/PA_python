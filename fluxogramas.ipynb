{
  "nbformat": 4,
  "nbformat_minor": 0,
  "metadata": {
    "colab": {
      "provenance": [],
      "authorship_tag": "ABX9TyM1QmDvJlYozrVF32sXJvF5",
      "include_colab_link": true
    },
    "kernelspec": {
      "name": "python3",
      "display_name": "Python 3"
    },
    "language_info": {
      "name": "python"
    }
  },
  "cells": [
    {
      "cell_type": "markdown",
      "metadata": {
        "id": "view-in-github",
        "colab_type": "text"
      },
      "source": [
        "<a href=\"https://colab.research.google.com/github/betegatorres/PA_python/blob/main/fluxogramas.ipynb\" target=\"_parent\"><img src=\"https://colab.research.google.com/assets/colab-badge.svg\" alt=\"Open In Colab\"/></a>"
      ]
    },
    {
      "cell_type": "markdown",
      "source": [
        "## Calculo de média"
      ],
      "metadata": {
        "id": "g09FAWcl1vb-"
      }
    },
    {
      "cell_type": "code",
      "execution_count": 2,
      "metadata": {
        "colab": {
          "base_uri": "https://localhost:8080/"
        },
        "id": "z5kkHZ4UzgHl",
        "outputId": "ef0c9bdd-412b-44ff-d737-2c1c1a82cb69"
      },
      "outputs": [
        {
          "name": "stdout",
          "output_type": "stream",
          "text": [
            "Digite sua primeira nota: 8\n"
          ]
        }
      ],
      "source": [
        "num1 = float(input(\"Digite sua primeira nota: \"))"
      ]
    },
    {
      "cell_type": "code",
      "source": [
        "num2 = float(input(\"Digite sua segunda nota: \"))"
      ],
      "metadata": {
        "colab": {
          "base_uri": "https://localhost:8080/"
        },
        "id": "oFVQFArq02gB",
        "outputId": "d9283f9b-3392-45d3-c1cf-406eeb3ecd7a"
      },
      "execution_count": 3,
      "outputs": [
        {
          "name": "stdout",
          "output_type": "stream",
          "text": [
            "Digite sua segunda nota: 7\n"
          ]
        }
      ]
    },
    {
      "cell_type": "code",
      "source": [
        "media = (num1 + num2)/2"
      ],
      "metadata": {
        "id": "4kWed-sL1YNi"
      },
      "execution_count": 4,
      "outputs": []
    },
    {
      "cell_type": "code",
      "source": [
        "print(f\"A sua media é: {media}\")"
      ],
      "metadata": {
        "colab": {
          "base_uri": "https://localhost:8080/"
        },
        "id": "barvtviG1ihZ",
        "outputId": "4718a47d-631b-4720-d03c-689060eae3c4"
      },
      "execution_count": 5,
      "outputs": [
        {
          "output_type": "stream",
          "name": "stdout",
          "text": [
            "A sua media é: 7.5\n"
          ]
        }
      ]
    },
    {
      "cell_type": "markdown",
      "source": [
        "## Conversão de Moeda"
      ],
      "metadata": {
        "id": "Xear1mD215m-"
      }
    },
    {
      "cell_type": "code",
      "source": [
        "dolar = float(input(\"Digite o valor do dólar: \"))\n",
        "reais = float(input(\"Digite o valor em reais \"))\n",
        "\n",
        "valordolar = reais/dolar\n",
        "\n",
        "print(f\"A conversão fica ${valordolar}\")\n"
      ],
      "metadata": {
        "colab": {
          "base_uri": "https://localhost:8080/"
        },
        "collapsed": true,
        "id": "oFPHUmD83nF9",
        "outputId": "c28ce763-3a7b-4425-df25-3e2b1f9e3607"
      },
      "execution_count": 16,
      "outputs": [
        {
          "output_type": "stream",
          "name": "stdout",
          "text": [
            "Digite o valor do dólar: 5\n",
            "Digite o valor em reais 100\n",
            "A conversão fica $20.0\n"
          ]
        }
      ]
    },
    {
      "cell_type": "markdown",
      "source": [
        "## Cálculo Comissão"
      ],
      "metadata": {
        "id": "sF2UcI-o57Jn"
      }
    },
    {
      "cell_type": "code",
      "source": [
        "valor = float(input(\"Digite o Valor da unidade: \"))\n",
        "qtde = float(input(\"Digite a quantidade: \"))\n",
        "\n",
        "venda = valor * qtde\n",
        "comissao = (venda*5)/100\n",
        "\n",
        "print(f\"A comissão do vendedor é de: {comissao}\")"
      ],
      "metadata": {
        "colab": {
          "base_uri": "https://localhost:8080/"
        },
        "collapsed": true,
        "id": "OaBHlLJY6L8I",
        "outputId": "3c99ae3b-ed7e-440e-c2b1-88c738891e60"
      },
      "execution_count": 17,
      "outputs": [
        {
          "output_type": "stream",
          "name": "stdout",
          "text": [
            "Digite o Valor da unidade: 150\n",
            "Digite a quantidade: 2\n",
            "A comissão do vendedor é de: 15.0\n"
          ]
        }
      ]
    },
    {
      "cell_type": "markdown",
      "source": [
        "## Exercício 1\n"
      ],
      "metadata": {
        "id": "DOWapTn27oed"
      }
    },
    {
      "cell_type": "code",
      "source": [
        "valorcarro = float(input(\"Qual o valor do carro? \"))\n",
        "\n",
        "imposto = (valorcarro*45/100)+valorcarro\n",
        "distribuicao = (imposto*28/100)+imposto\n",
        "\n",
        "print(f\"O valor total do carro fica: {distribuicao}\")"
      ],
      "metadata": {
        "colab": {
          "base_uri": "https://localhost:8080/"
        },
        "collapsed": true,
        "id": "bASEaXLB9CuB",
        "outputId": "49b5dc24-ee9a-4281-c9f0-c6fbcc7a6e16"
      },
      "execution_count": 19,
      "outputs": [
        {
          "output_type": "stream",
          "name": "stdout",
          "text": [
            "Qual o valor do carro? 25000\n",
            "O valor total do carro fica: 46400.0\n"
          ]
        }
      ]
    },
    {
      "cell_type": "markdown",
      "source": [
        "## Exercício 2\n"
      ],
      "metadata": {
        "id": "vxdr7oncB0NA"
      }
    },
    {
      "cell_type": "code",
      "source": [
        "hora = float(input(\"Quantas horas são? \" ))\n",
        "minutos = float(input(\"Quantos minutos são? \"))\n",
        "\n",
        "minutodec = minutos/60\n",
        "segundo = hora + minutodec\n",
        "\n",
        "print(f\"O tempo em segundo fica: {segundo}\")"
      ],
      "metadata": {
        "colab": {
          "base_uri": "https://localhost:8080/"
        },
        "collapsed": true,
        "id": "EgW2fYatB4B0",
        "outputId": "02645ebb-a9f9-4e80-cec3-fc16f920801b"
      },
      "execution_count": 21,
      "outputs": [
        {
          "output_type": "stream",
          "name": "stdout",
          "text": [
            "Quantas horas são? 4\n",
            "Quantos minutos são? 23\n",
            "O tempo em segundo fica: 4.383333333333334\n"
          ]
        }
      ]
    },
    {
      "cell_type": "markdown",
      "source": [
        "## Exercício 3\n"
      ],
      "metadata": {
        "id": "aC6Wiz8eDe3O"
      }
    },
    {
      "cell_type": "code",
      "source": [
        "hora = float(input(\"Quantas horas de trabalho: \"))\n",
        "minuto = float(input(\"E mais quantos minutos: \"))\n",
        "valorhor = float(input(\"Valor pago por hora: \"))\n",
        "\n",
        "horasdec = hora + (minuto/60)\n",
        "valornormal = horasdec * valorhor\n",
        "valortotal = valornormal*70/100\n",
        "\n",
        "print(f\" o valor normal é de: {valornormal}\")\n",
        "print(f\"O valor pago em horas extra é: {valortotal}\")"
      ],
      "metadata": {
        "colab": {
          "base_uri": "https://localhost:8080/"
        },
        "collapsed": true,
        "id": "7il87TC1D47X",
        "outputId": "caf4e1cf-fe8c-42c3-fc85-18e329b93772"
      },
      "execution_count": 25,
      "outputs": [
        {
          "output_type": "stream",
          "name": "stdout",
          "text": [
            "Quantas horas de trabalho: 15\n",
            "E mais quantos minutos: 45\n",
            "Valor pago por hora: 25\n",
            " o valor normal é de: 393.75\n",
            "O valor pago em horas extra é: 275.625\n"
          ]
        }
      ]
    }
  ]
}